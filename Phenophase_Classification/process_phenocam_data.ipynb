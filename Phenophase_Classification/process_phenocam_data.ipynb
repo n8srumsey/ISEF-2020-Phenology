{
 "metadata": {
  "language_info": {
   "codemirror_mode": {
    "name": "ipython",
    "version": 3
   },
   "file_extension": ".py",
   "mimetype": "text/x-python",
   "name": "python",
   "nbconvert_exporter": "python",
   "pygments_lexer": "ipython3",
   "version": "3.8.3-final"
  },
  "orig_nbformat": 2,
  "kernelspec": {
   "name": "python3",
   "display_name": "Python 3"
  }
 },
 "nbformat": 4,
 "nbformat_minor": 2,
 "cells": [
  {
   "source": [
    "# PhenoCam Data Processing Jupyter Notebook\n",
    "#\n",
    "This is where the code for the processing of data and the creation of the dataset for phenophase classification will reside."
   ],
   "cell_type": "markdown",
   "metadata": {}
  },
  {
   "cell_type": "code",
   "execution_count": 1,
   "metadata": {},
   "outputs": [],
   "source": [
    "# delete all .tif files in this data directory\n",
    "directory = \"./phenocam_data/\"\n",
    "\n",
    "files_in_directory = os.listdir(directory)\n",
    "filtered_files = [file for file in files_in_directory if file.endswith(\".tif\")]\n",
    "for file in filtered_files:\n",
    "\tpath_to_file = os.path.join(directory, file)\n",
    "\tos.remove(path_to_file)"
   ]
  },
  {
   "cell_type": "code",
   "execution_count": 2,
   "metadata": {},
   "outputs": [],
   "source": [
    "# delete all <sitename>_meta.txt files in this data directory\n",
    "directory = \"./phenocam_data/\"\n",
    "\n",
    "files_in_directory = os.listdir(directory)\n",
    "filtered_files = [file for file in files_in_directory if file.endswith(\".txt\")]\n",
    "for file in filtered_files:\n",
    "\tpath_to_file = os.path.join(directory, file)\n",
    "\tos.remove(path_to_file)"
   ]
  },
  {
   "cell_type": "code",
   "execution_count": 3,
   "metadata": {},
   "outputs": [],
   "source": [
    "# delete all <sitename>_<veg_type>....csv files in this data directory that are not for Deciduous Broadleafs (DB)\n",
    "directory = \"./phenocam_data/\"\n",
    "\n",
    "files_in_directory = os.listdir(directory)\n",
    "filtered_files = [file for file in files_in_directory if file.endswith(\".csv\")]\n",
    "non_DB_data_records = [file for file in filtered_files if (file[file.find(\"_\") + 1:file.find(\"_\") + 3] != \"DB\")]\n",
    "\n",
    "for file in non_DB_data_records:\n",
    "\tpath_to_file = os.path.join(directory, file)\n",
    "\tos.remove(path_to_file)"
   ]
  },
  {
   "cell_type": "code",
   "execution_count": 5,
   "metadata": {},
   "outputs": [],
   "source": [
    "# delete all non 1day_transtion_dates CSV files\n",
    "directory = \"./phenocam_data/\"\n",
    "\n",
    "files_in_directory = os.listdir(directory)\n",
    "filtered_files = [file for file in files_in_directory if file.endswith(\".csv\")]\n",
    "\n",
    "for file in filtered_files:\n",
    "    is_transition_dates = file.find('1day_transition_dates')\n",
    "    if is_transition_dates == -1:\n",
    "        path_to_file = os.path.join(directory, file)\n",
    "        os.remove(path_to_file)"
   ]
  },
  {
   "cell_type": "code",
   "execution_count": 10,
   "metadata": {},
   "outputs": [],
   "source": [
    "# delete all non 1000 ROI transition dates CSV files\n",
    "directory = \"./phenocam_data/\"\n",
    "\n",
    "files_in_directory = os.listdir(directory)\n",
    "filtered_files = [file for file in files_in_directory if file.endswith(\".csv\")]\n",
    "\n",
    "for file in filtered_files:\n",
    "    is_transition_dates = file.find('1000')\n",
    "    if is_transition_dates == -1:\n",
    "        path_to_file = os.path.join(directory, file)\n",
    "        os.remove(path_to_file)"
   ]
  },
  {
   "cell_type": "code",
   "execution_count": 6,
   "metadata": {},
   "outputs": [],
   "source": [
    "# delete all non site type 1 files\n",
    "import json\n",
    "\n",
    "directory = \"./phenocam_data/\"\n",
    "\n",
    "files_in_directory = os.listdir(directory)\n",
    "filtered_files = [file for file in files_in_directory if file.endswith(\".json\")]\n",
    "\n",
    "for file in filtered_files:\n",
    "    with open(os.path.join(directory, file)) as f:\n",
    "        data = json.load(f)\n",
    "    sitename = data[\"phenocam_site\"][\"sitename\"]\n",
    "    site_type = data[\"phenocam_site\"][\"site_type\"]\n",
    "    is_site_type_i = site_type == \"I\"   # choose only site I sites because they have high data quality; long historical data is not as important for just phenophase classification\n",
    "\n",
    "    if not is_site_type_i:\n",
    "        files = [foo for foo in files_in_directory if foo.find(sitename) != -1]\n",
    "\n",
    "        for fo in files:\n",
    "            path_to_file = os.path.join(directory, fo)\n",
    "            os.remove(path_to_file)"
   ]
  },
  {
   "cell_type": "code",
   "execution_count": 3,
   "metadata": {},
   "outputs": [],
   "source": [
    "# delete the following remaining sites that I will not be using\n",
    "remove_these = ['ashbottoms', 'barrocolorado', 'groundhog', 'harvardbarn', 'harvardhemlock', 'hawbeckereddy', 'huyckpreserveny', 'kingmanfarm', 'NEON.D03.JERK.DP1.00033', 'NEON.D05.TREE.DP1.00033', 'ninemileprairie', 'northattleboroma', 'proctor', 'sweetbriar', 'sylvania', 'ugseros', 'uwmfieldsta', 'woodstockvt', 'worcester', 'caryinstitute', 'donanapajarera']\n",
    "\n",
    "directory = \"./phenocam_data/\"\n",
    "files_in_directory = os.listdir(directory)\n",
    "\n",
    "for sitename in remove_these:\n",
    "    files = [foo for foo in files_in_directory if foo.find(sitename) != -1]\n",
    "\n",
    "    for f in files:\n",
    "        path_to_file = os.path.join(directory, f)\n",
    "        os.remove(path_to_file)"
   ]
  },
  {
   "cell_type": "code",
   "execution_count": 4,
   "metadata": {
    "tags": []
   },
   "outputs": [],
   "source": [
    "# delete all redundant <sitename>_meta.json files\n",
    "directory = \"./phenocam_data/\"\n",
    "\n",
    "files_in_directory = os.listdir(directory)\n",
    "filtered_files = [file for file in files_in_directory if file.endswith(\".json\")]\n",
    "\n",
    "for file in filtered_files:\n",
    "    sitename = file[:file.find('_')]\n",
    "    \n",
    "    site_data_files_left = [f for f in files_in_directory if (f.endswith('.csv') and (f.find(sitename) != -1))]\n",
    "    \n",
    "    if len(site_data_files_left) == 0:\n",
    "        path_to_file = os.path.join(directory, file)\n",
    "        os.remove(path_to_file)"
   ]
  },
  {
   "cell_type": "code",
   "execution_count": 7,
   "metadata": {},
   "outputs": [],
   "source": [
    "# remove comments at beginning of CSV files\n",
    "import csv\n",
    "directory = \"./phenocam_data/\"\n",
    "\n",
    "files_in_directory = os.listdir(directory)\n",
    "filtered_files = [file for file in files_in_directory if file.endswith(\".csv\")]\n",
    "\n",
    "for file in filtered_files:\n",
    "    path_to_file = os.path.join(directory, file)\n",
    "    lines = list()\n",
    "    with open(path_to_file, 'r') as readFile:\n",
    "        reader = csv.reader(readFile)\n",
    "        for row in reader:\n",
    "            lines.append(row)\n",
    "        lines = lines[16:]\n",
    "    with open(path_to_file, 'w', newline='') as writeFile:\n",
    "        writer = csv.writer(writeFile)\n",
    "        writer.writerows(lines)"
   ]
  },
  {
   "cell_type": "code",
   "execution_count": 7,
   "metadata": {},
   "outputs": [
    {
     "output_type": "stream",
     "name": "stdout",
     "text": [
      "[55]\nalligatorriver\narbutuslakeinlet\narbutuslake\nashburnham\nasuhighlands\nbostoncommon\nbullshoals\ncanadaoa2\ncanadaOA\ndownerwoods\ndukehw\nfreemanwood\ngreenridge1\nharvardlph\nharvard\nhowland2\nhubbardbrook\nlacclair\nlaurentides\nmacleish\nmillhaft\nmissouriozarks\nmorganmonroe2\nmorganmonroe\nNEON.D01.BART.DP1.00033\nNEON.D01.HARV.DP1.00033\nNEON.D02.BLAN.DP1.00033\nNEON.D02.SCBI.DP1.00033\nNEON.D02.SERC.DP1.00033\nNEON.D03.JERC.DP1.00033\nNEON.D05.STEI.DP1.00033\nNEON.D05.UNDE.DP1.00033\nNEON.D07.GRSM.DP1.00033\nNEON.D07.ORNL.DP1.00033\nNEON.D08.DELA.DP1.00033\nNEON.D08.LENO.DP1.00033\nNEON.D11.CLBJ.DP1.00033\nnist\npace\nqueens\nrobinson2\nrobinson\nrussellsage\nsanford\nshalehillsczo\nspringfieldma\ntfforest\ntonzi\nturkeypointdbf\numichbiological2\numichbiological\nunca\nusgseros\nwillamettepoplar\nwillowcreek\n"
     ]
    }
   ],
   "source": [
    "# print all sites being used\n",
    "\n",
    "directory = \"./phenocam_data/\"\n",
    "\n",
    "files_in_directory = os.listdir(directory)\n",
    "filtered_files = [file for file in files_in_directory if file.endswith(\"meta.json\")]\n",
    "\n",
    "print('[{}]'.format(len(filtered_files)))\n",
    "for file in filtered_files:\n",
    "    sitename = file[:file.find('_')]\n",
    "    print(sitename)"
   ]
  },
  {
   "cell_type": "code",
   "execution_count": 26,
   "metadata": {},
   "outputs": [],
   "source": [
    "# process image data, saving a list for each site containing only one image per day\n",
    "import json\n",
    "img_directory = '../PhenoCam_v2/images/'\n",
    "\n",
    "site_folders = [sitefldr for sitefldr in os.listdir(img_directory)]\n",
    "for site in site_folders:\n",
    "    sitename = site[:site.find('_')]\n",
    "    site_directory = img_directory + site + '/phenocamdata/' + sitename + '/'\n",
    "\n",
    "    site_imgs = []\n",
    "\n",
    "    for year in [yr for yr in os.listdir(site_directory) if (yr.find('.')==-1)]:\n",
    "        year_directory = site_directory + year + '/'\n",
    "        for month in os.listdir(year_directory):\n",
    "            month_directory = year_directory + month + '/'\n",
    "            imgs = [(month_directory + img) for img in os.listdir(month_directory) if img.endswith('.jpg')]\n",
    "\n",
    "            dates_in_month = []\n",
    "            for img_filename in imgs:\n",
    "                date_str = img_filename[-21:-4]\n",
    "                date_str_no_time = date_str[:10]\n",
    "                if not date_str_no_time in dates_in_month:\n",
    "                    dates_in_month.append(date_str_no_time)\n",
    "\n",
    "            for day in dates_in_month:\n",
    "                imgs_in_day = [img_filename for img_filename in imgs if img_filename.find(day) != -1]\n",
    "                distance_to_noon = {}\n",
    "                for img_filename in imgs_in_day:\n",
    "                    time = int(img_filename[-10:-4])\n",
    "                    if time / 120000 < 1:\n",
    "                        distance = 116000 - time\n",
    "                    else:\n",
    "                        distance = time - 120000\n",
    "                    distance_to_noon[img_filename] = distance\n",
    "                closest_img = min(distance_to_noon.items(), key=lambda x: x[1])[0]\n",
    "                \n",
    "                site_imgs.append(closest_img)\n",
    "\n",
    "    # save into json in phenocam_data folder\n",
    "    directory = './phenocam_data/'            \n",
    "    imgs_json = {'img_file_names' : site_imgs}\n",
    "\n",
    "    with open(directory + sitename + '_imgs.json', 'w') as file:\n",
    "        json.dump(imgs_json, file, indent=4)"
   ]
  }
 ]
}