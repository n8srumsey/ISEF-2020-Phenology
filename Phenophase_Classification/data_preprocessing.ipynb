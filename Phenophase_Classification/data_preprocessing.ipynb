{
 "metadata": {
  "language_info": {
   "codemirror_mode": {
    "name": "ipython",
    "version": 3
   },
   "file_extension": ".py",
   "mimetype": "text/x-python",
   "name": "python",
   "nbconvert_exporter": "python",
   "pygments_lexer": "ipython3",
   "version": "3.8.3-final"
  },
  "orig_nbformat": 2,
  "kernelspec": {
   "name": "python3",
   "display_name": "Python 3"
  }
 },
 "nbformat": 4,
 "nbformat_minor": 2,
 "cells": [
  {
   "cell_type": "code",
   "execution_count": 1,
   "metadata": {},
   "outputs": [],
   "source": [
    "# Data Preprocessing Jupyter Notebook\n",
    "#\n",
    "# This is where the code for the processing of data and the creation of the dataset for phenophase classification will reside."
   ]
  },
  {
   "cell_type": "code",
   "execution_count": 2,
   "metadata": {},
   "outputs": [],
   "source": [
    "# delete all .tif files in this data directory\n",
    "directory = \"./data/\"\n",
    "\n",
    "files_in_directory = os.listdir(directory)\n",
    "filtered_files = [file for file in files_in_directory if file.endswith(\".tif\")]\n",
    "for file in filtered_files:\n",
    "\tpath_to_file = os.path.join(directory, file)\n",
    "\tos.remove(path_to_file)"
   ]
  },
  {
   "cell_type": "code",
   "execution_count": 3,
   "metadata": {},
   "outputs": [],
   "source": [
    "# delete all <sitename>_meta.txt files in this data directory\n",
    "directory = \"./data/\"\n",
    "\n",
    "files_in_directory = os.listdir(directory)\n",
    "filtered_files = [file for file in files_in_directory if file.endswith(\".txt\")]\n",
    "for file in filtered_files:\n",
    "\tpath_to_file = os.path.join(directory, file)\n",
    "\tos.remove(path_to_file)"
   ]
  },
  {
   "cell_type": "code",
   "execution_count": 4,
   "metadata": {},
   "outputs": [],
   "source": [
    "# delete all <sitename>_<veg_type>....csv files in this data directory that are not for Deciduous Broadleafs (DB)\n",
    "directory = \"./data/\"\n",
    "\n",
    "files_in_directory = os.listdir(directory)\n",
    "filtered_files = [file for file in files_in_directory if file.endswith(\".csv\")]\n",
    "non_DB_data_records = [file for file in filtered_files if (file[file.find(\"_\") + 1:file.find(\"_\") + 3] != \"DB\")]\n",
    "\n",
    "for file in non_DB_data_records:\n",
    "\tpath_to_file = os.path.join(directory, file)\n",
    "\tos.remove(path_to_file)"
   ]
  },
  {
   "cell_type": "code",
   "execution_count": 5,
   "metadata": {
    "tags": []
   },
   "outputs": [],
   "source": [
    "# delete all redundant <sitename>_meta.json files\n",
    "directory = \"./data/\"\n",
    "\n",
    "files_in_directory = os.listdir(directory)\n",
    "filtered_files = [file for file in files_in_directory if file.endswith(\".json\")]\n",
    "\n",
    "for file in filtered_files:\n",
    "    sitename = file[:file.find('_')]\n",
    "    \n",
    "    site_data_files_left = [f for f in files_in_directory if (f.endswith('.csv') and (f.find(sitename) != -1))]\n",
    "    \n",
    "    if len(site_data_files_left) == 0:\n",
    "        path_to_file = os.path.join(directory, file)\n",
    "        os.remove(path_to_file)"
   ]
  },
  {
   "cell_type": "code",
   "execution_count": 6,
   "metadata": {},
   "outputs": [],
   "source": [
    "# delete all non site type 1 files\n",
    "import json\n",
    "\n",
    "directory = \"./data/\"\n",
    "\n",
    "files_in_directory = os.listdir(directory)\n",
    "filtered_files = [file for file in files_in_directory if file.endswith(\".json\")]\n",
    "\n",
    "for file in filtered_files:\n",
    "    with open(os.path.join(directory, file)) as f:\n",
    "        data = json.load(f)\n",
    "    sitename = data[\"phenocam_site\"][\"sitename\"]\n",
    "    site_type = data[\"phenocam_site\"][\"site_type\"]\n",
    "    is_site_type_i = site_type == \"I\"   # choose only site I sites because they have high data quality; long historical data is not as important for just phenophase classification\n",
    "\n",
    "    if not is_site_type_i:\n",
    "        files = [foo for foo in files_in_directory if foo.find(sitename) != -1]\n",
    "\n",
    "        for fo in files:\n",
    "            path_to_file = os.path.join(directory, fo)\n",
    "            os.remove(path_to_file)"
   ]
  },
  {
   "cell_type": "code",
   "execution_count": 7,
   "metadata": {},
   "outputs": [],
   "source": [
    "# delete the following remaining sites that I will not be using\n",
    "remove_these = ['ashbottoms', 'barrocolorado', 'groundhog', 'harvardbarn', 'harvardhemlock', 'hawbeckereddy', 'huyckpreserveny', 'kingmanfarm', 'NEON.D03.JERK.DP1.00033', 'NEON.D05.TREE.DP1.00033', 'ninemileprairie', 'northattleboroma', 'proctor', 'sweetbriar', 'sylvania', 'ugseros', 'uwmfieldsta', 'woodstockvt', 'worcester']\n",
    "\n",
    "directory = \"./data/\"\n",
    "files_in_directory = os.listdir(directory)\n",
    "\n",
    "for sitename in remove_these:\n",
    "    files = [foo for foo in files_in_directory if foo.find(sitename) != -1]\n",
    "\n",
    "    for f in files:\n",
    "        path_to_file = os.path.join(directory, f)\n",
    "        os.remove(path_to_file)"
   ]
  },
  {
   "cell_type": "code",
   "execution_count": 8,
   "metadata": {},
   "outputs": [
    {
     "output_type": "stream",
     "name": "stdout",
     "text": [
      "alligatorriver\narbutuslakeinlet\narbutuslake\nashburnham\nasuhighlands\nbostoncommon\nbullshoals\ncanadaoa2\ncanadaOA\ncaryinstitute\ndonanapajarera\ndownerwoods\ndukehw\nfreemanwood\ngreenridge1\nharvardlph\nharvard\nhowland2\nhubbardbrook\nlacclair\nlaurentides\nmacleish\nmillhaft\nmissouriozarks\nmorganmonroe2\nmorganmonroe\nncssm\nNEON.D01.BART.DP1.00033\nNEON.D01.HARV.DP1.00033\nNEON.D02.BLAN.DP1.00033\nNEON.D02.SCBI.DP1.00033\nNEON.D02.SERC.DP1.00033\nNEON.D03.JERC.DP1.00033\nNEON.D05.STEI.DP1.00033\nNEON.D05.UNDE.DP1.00033\nNEON.D07.GRSM.DP1.00033\nNEON.D07.MLBS.DP1.00033\nNEON.D07.ORNL.DP1.00033\nNEON.D08.DELA.DP1.00033\nNEON.D08.LENO.DP1.00033\nNEON.D11.CLBJ.DP1.00033\nnist\npace\nqueens\nreadingma\nrobinson2\nrobinson\nrussellsage\nsanford\nshalehillsczo\nspringfieldma\ntfforest\ntonzi\nturkeypointdbf\numichbiological2\numichbiological\nunca\nusgseros\nwillamettepoplar\nwillowcreek\n"
     ]
    }
   ],
   "source": [
    "# print all sites being used\n",
    "\n",
    "directory = \"./data/\"\n",
    "\n",
    "files_in_directory = os.listdir(directory)\n",
    "filtered_files = [file for file in files_in_directory if file.endswith(\".json\")]\n",
    "\n",
    "for file in filtered_files:\n",
    "    sitename = file[:file.find('_')]\n",
    "    print(sitename)"
   ]
  }
 ]
}