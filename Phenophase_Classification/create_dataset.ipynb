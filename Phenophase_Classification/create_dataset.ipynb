{
 "metadata": {
  "language_info": {
   "codemirror_mode": {
    "name": "ipython",
    "version": 3
   },
   "file_extension": ".py",
   "mimetype": "text/x-python",
   "name": "python",
   "nbconvert_exporter": "python",
   "pygments_lexer": "ipython3",
   "version": "3.8.3-final"
  },
  "orig_nbformat": 2,
  "kernelspec": {
   "name": "python3",
   "display_name": "Python 3"
  }
 },
 "nbformat": 4,
 "nbformat_minor": 2,
 "cells": [
  {
   "source": [
    "# Dataset Creation Jupyter Notebook\n",
    "This is where the code for the processing of data and the creation of the dataset for phenophase classification will reside.\n",
    "\n",
    "Two important parts of this: \n",
    "(1) finding average transition dates for each site and each year\n",
    "(2) storing this data in a readable JSON format"
   ],
   "cell_type": "markdown",
   "metadata": {}
  },
  {
   "cell_type": "code",
   "execution_count": 3,
   "metadata": {},
   "outputs": [],
   "source": [
    "import statistics\n",
    "\n",
    "def date_to_doy(date):\n",
    "    year = int(date[:date.find('-')])\n",
    "    adjusted_input = date[date.find('-')+1:]\n",
    "    month = int(adjusted_input[:adjusted_input.find('-')])\n",
    "    day = int(adjusted_input[adjusted_input.find('-')+1:])\n",
    "\n",
    "    dates_in_prev_months = [0, 31, 59, 90, 120, 151, 181, 212, 243, 273, 304, 334] #index 0 is jan, 1 is feb etc.\n",
    "    doy = dates_in_prev_months[month - 1] + day\n",
    "    \n",
    "    if year % 4 == 0 and (year % 100 != 0 or year % 400 == 0) and month > 2:\n",
    "        doy += 1\n",
    "\n",
    "    return doy, year\n",
    "\n",
    "def doy_to_date(doy, year):\n",
    "    leap_year = year % 4 == 0 and (year % 100 != 0 or year % 400 == 0)\n",
    "    dates_in_prev_months = [0, 31, 59, 90, 120, 151, 181, 212, 243, 273, 304, 334] #index 0 is jan, 1 is feb etc.\n",
    "    dates_in_prev_months_lyr = [0, 31, 60, 91, 121, 152, 182, 213, 244, 274, 305, 335]\n",
    "\n",
    "    month = 0\n",
    "    day = 1\n",
    "\n",
    "    for i in range(len(dates_in_prev_months)):\n",
    "        if leap_year:\n",
    "            if i == 11:\n",
    "                month = 12\n",
    "                day = doy - dates_in_prev_months_lyr[i]\n",
    "                return year, month, day\n",
    "\n",
    "            elif doy > dates_in_prev_months_lyr[i] and doy <= dates_in_prev_months_lyr[i+1]:\n",
    "                month = i + 1\n",
    "                if month >= 2:\n",
    "                    day = doy - dates_in_prev_months_lyr[i]\n",
    "                else: \n",
    "                    day = doy - dates_in_prev_months[i]\n",
    "                return year, month, day\n",
    "        else:\n",
    "            if i == 11:\n",
    "                month = 12\n",
    "                day = doy - dates_in_prev_months[i]\n",
    "                return year, month, day\n",
    "            elif doy > dates_in_prev_months[i] and doy <= dates_in_prev_months[i+1]:\n",
    "                month = i + 1\n",
    "                day = doy - dates_in_prev_months[i]\n",
    "                return year, month, day\n",
    "        \n",
    "    return year, month, day\n",
    "\n",
    "def calc_average_transition_date(str_dates_list):\n",
    "    years = []\n",
    "    doys = []\n",
    "    for string in str_dates_list:\n",
    "        doy, year = date_to_doy(string)\n",
    "        doys.append(doy)\n",
    "        years.append(year)\n",
    "    avg_year = int(statistics.median(years))\n",
    "    avg_doy = int(statistics.median(doys))\n",
    "\n",
    "    _, avg_month, avg_day = doy_to_date(avg_doy, avg_year)\n",
    "\n",
    "    return {'year':avg_year, 'month':avg_month, 'day':avg_day, 'doy':avg_doy}\n"
   ]
  },
  {
   "cell_type": "code",
   "execution_count": 4,
   "metadata": {
    "tags": []
   },
   "outputs": [],
   "source": [
    "# Extract all transition dates from CSV files, then caculate median date, and save the respective transition dates for each to a JSON file\n",
    "import pandas as pd\n",
    "import json\n",
    "\n",
    "directory = \"./phenocam_data/\"\n",
    "files_in_directory = os.listdir(directory)\n",
    "filtered_files = [file for file in files_in_directory if file.endswith(\".csv\")]\n",
    "\n",
    "for file in filtered_files:\n",
    "    path_to_file = os.path.join(directory, file)\n",
    "    sitename = file[:file.find('_')]\n",
    "\n",
    "    df = pd.read_csv(path_to_file, index_col=False)\n",
    "    df_lists = df.values.tolist()\n",
    "    \n",
    "    num_rising = 0\n",
    "    num_falling = 0\n",
    "    for list in df_lists:\n",
    "        if 'rising' in (string for string in list): \n",
    "            num_rising += 1\n",
    "        elif 'falling' in (string for string in list): \n",
    "            num_falling += 1 \n",
    "\n",
    "    num_rising_transitions = int(num_rising / 4)\n",
    "    num_falling_transitions = int(num_falling / 4)\n",
    "\n",
    "    rising = [[] for _ in range(num_rising_transitions)]\n",
    "    falling = [[] for _ in range(num_falling_transitions)]\n",
    "\n",
    "    i = 0\n",
    "    for list in df_lists:\n",
    "        if 'rising' in (string for string in list): \n",
    "            rising[i].extend(list[5:14])\n",
    "            i += 1\n",
    "            if i==num_rising_transitions: i=0\n",
    "        elif 'falling' in (string for string in list): \n",
    "            falling[i].extend(list[5:14])  \n",
    "            i += 1\n",
    "            if i==num_falling_transitions: i=0\n",
    "    \n",
    "    avg_rising = [calc_average_transition_date(transition) for transition in rising]\n",
    "    avg_falling = [calc_average_transition_date(transition) for transition in falling]\n",
    "    \n",
    "\n",
    "    transition_date_data = {\n",
    "        'sitename': sitename,\n",
    "        'rising': avg_rising,\n",
    "        'falling': avg_falling,\n",
    "    }\n",
    "\n",
    "    file_to_save = sitename + '_transition_dates.json'\n",
    "    path_to_target = os.path.join(directory, file_to_save) \n",
    "    with open(path_to_target, 'w') as f:\n",
    "        json.dump(transition_date_data, f, indent=4)    "
   ]
  },
  {
   "cell_type": "code",
   "execution_count": null,
   "metadata": {},
   "outputs": [],
   "source": [
    "# method, given input of date, output boolean indicating if rising or falling"
   ]
  },
  {
   "cell_type": "code",
   "execution_count": null,
   "metadata": {},
   "outputs": [],
   "source": [
    "# sort images into folder structure needed for creating the dataset"
   ]
  },
  {
   "cell_type": "code",
   "execution_count": null,
   "metadata": {},
   "outputs": [],
   "source": [
    "# quick test cnn to see if it works"
   ]
  }
 ]
}